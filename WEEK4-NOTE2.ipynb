{
 "cells": [
  {
   "cell_type": "markdown",
   "metadata": {
    "collapsed": true
   },
   "source": [
    "# Data that will be used"
   ]
  },
  {
   "cell_type": "markdown",
   "metadata": {},
   "source": [
    "As you can guess \"Jewelry\" is just a keyword and you can use this model to audiences of any product by using appropriate keyword(s).\n",
    "Now we must choose a \"location\" and a \"range\" to start scraping data.\n",
    "Location Could be a City, a Borough or a Neighborhood. we start to find places related to key words. find people who like them or leave a tip on them, these are, our vary possible customers and their friends could be our potential Audiences.\n",
    "in case of huge number of people, we need more information to make shorter list and more efficient customers. we can use time parameter to find who recently has an activity in our keywords, their check in information and their comments could be our additional data to shortlist them."
   ]
  }
 ],
 "metadata": {
  "kernelspec": {
   "display_name": "Python 3.5",
   "language": "python",
   "name": "python3"
  },
  "language_info": {
   "codemirror_mode": {
    "name": "ipython",
    "version": 3
   },
   "file_extension": ".py",
   "mimetype": "text/x-python",
   "name": "python",
   "nbconvert_exporter": "python",
   "pygments_lexer": "ipython3",
   "version": "3.5.5"
  }
 },
 "nbformat": 4,
 "nbformat_minor": 1
}
