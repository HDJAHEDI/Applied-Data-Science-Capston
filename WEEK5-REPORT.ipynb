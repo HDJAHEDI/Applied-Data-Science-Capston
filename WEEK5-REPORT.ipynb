{
 "cells": [
  {
   "cell_type": "markdown",
   "metadata": {
    "collapsed": true
   },
   "source": [
    "# Find your business audiences by their behavior directly"
   ]
  },
  {
   "cell_type": "markdown",
   "metadata": {},
   "source": [
    "## Introduction "
   ]
  },
  {
   "cell_type": "markdown",
   "metadata": {},
   "source": [
    "Any time we want to run a new business, we have to find our audiences, our potential customers. But there is a question how to find people interested in our business or our product. One of the ways is to find them from their behavior in social networks. In this case we are going to find people may interest in our Online Jewelry Store."
   ]
  },
  {
   "cell_type": "markdown",
   "metadata": {},
   "source": [
    "## Data"
   ]
  },
  {
   "cell_type": "markdown",
   "metadata": {},
   "source": [
    "As we knew Foursquare social network is about places and peoples. They tell stories about places visited and they are talking about it. In the other hand we have access to search venues, users and their interests. So we are going to find user that like jewelry stores in our territory. They are our very possible customers and their friends may be our potential audiences."
   ]
  },
  {
   "cell_type": "markdown",
   "metadata": {},
   "source": [
    "## Methodology"
   ]
  },
  {
   "cell_type": "markdown",
   "metadata": {},
   "source": [
    "### Our search starts with few known parameters:\n",
    "- __What is about our business or our product? How to find venues related to us?__\n",
    "  *  One of the accurate ways to find related venues is to indicate it categories. By this __[link](https://developer.foursquare.com/docs/resources/categories)__ provided by Foursquare, we can easily found our categories    to search venues.\n",
    "  *  As you can see we find out category for Jewelry Store (4bf58dd8d48988d111951735), it will be used later in search requests.\n",
    "- __Where we are going to find peoples? a City, a brought or a neighborhood?__\n",
    "  *  We chose New York city as our territory to find our audiences. By a geocoders library we will find the geographical location of our territory as a latitude and a longitude."
   ]
  },
  {
   "cell_type": "code",
   "execution_count": 2,
   "metadata": {},
   "outputs": [
    {
     "name": "stdout",
     "output_type": "stream",
     "text": [
      "40.7308619 -73.9871558\n"
     ]
    }
   ],
   "source": [
    "#!conda install -c conda-forge geopy --yes \n",
    "from geopy.geocoders import Nominatim # module to convert an address into latitude and longitude values\n",
    "\n",
    "address    = 'New york city'\n",
    "geolocator = Nominatim(user_agent=\"foursquare_agent\")\n",
    "location   = geolocator.geocode(address)\n",
    "latitude   = location.latitude\n",
    "longitude  = location.longitude\n",
    "print(latitude, longitude)"
   ]
  },
  {
   "cell_type": "markdown",
   "metadata": {},
   "source": [
    "- __A logical range in meters to find people? How far we want to go to find them?__\n",
    "  *  As described by Foursquare there is a __[search API](https://developer.foursquare.com/docs/api/venues/search)__ to find venues. There are some ways to search an area. One of them is search by a latitude and a longitude and a radius in a circle, it can be easily used but there is a limit of 50 venues in result set. The second way to search venues will help us to overcome this limitation, search by SW (south-west corner) and NE (north-east corner) it has limitation of 50 but we can easily divide our area to many squares and search them by this way. But we face a new problem: “who we can convert latitude and longitude to meaningful dividing squares?” this problem is considered in many __[navigation documents](https://www.movable-type.co.uk/scripts/latlong.html)__; each meter displacement is about 0.00001 in latitude  or longitude. So we are going to found shape our grid and search in made squares one by one.\n",
    "  * we assumed radius as 10000 meters and squares of 500 * 500"
   ]
  },
  {
   "cell_type": "code",
   "execution_count": 3,
   "metadata": {},
   "outputs": [],
   "source": [
    "# @hidden_cell \n",
    "CLIENT_ID     = '01KKSMDEM22BQBCHKT4IL4ZE5MUURWK0XV0IMVDHQ2F53DJU' # your Foursquare ID\n",
    "CLIENT_SECRET = 'CFWN4MO3VCP2E1MCA00FPZI3GOHLIOBYX4PAII3PNVSJ345N' # your Foursquare Secret\n",
    "VERSION = '20190301'"
   ]
  },
  {
   "cell_type": "code",
   "execution_count": 4,
   "metadata": {},
   "outputs": [],
   "source": [
    "import pandas           as pd             # library for data analsysis\n",
    "import requests                           # library to handle requests\n",
    "import numpy            as np             # library to handle data in a vectorized manner\n",
    "from pandas.io.json import json_normalize # tranforming json file into a pandas dataframe library\n",
    "venues_dataframe = None\n",
    "venues_dataframe = pd.DataFrame(columns =['id','name','location.lat','location.lng','SW_lat','SW_lon','NE_lat','NE_lon'])\n",
    "category = '4bf58dd8d48988d111951735'\n",
    "Coef   = 0.00001\n",
    "radius = 10000\n",
    "step   = 500\n",
    "Base_Point_lat = latitude  - (Coef * radius / 2)\n",
    "Base_Point_lon = longitude - (Coef * radius / 2)\n",
    "for x in range(0,int(radius/step)):\n",
    "    for y in range(0,int(radius/step)):\n",
    "        Str_Point_lat = round(Base_Point_lat + float(x)*Coef*float(step)  ,5)\n",
    "        Str_Point_lon = round(Base_Point_lon + float(y)*Coef*float(step)  ,5)\n",
    "        End_Point_lat = round(Base_Point_lat + float(x+1)*Coef*float(step),5)\n",
    "        End_Point_lon = round(Base_Point_lon + float(y+1)*Coef*float(step),5)\n",
    "        url = 'https://api.foursquare.com/v2/venues/search?client_id={}&client_secret={}&v={}&categoryId={}&sw={},{}&ne={},{}&intent=browse'.format(CLIENT_ID,CLIENT_SECRET,VERSION,category,Str_Point_lat,Str_Point_lon,End_Point_lat,End_Point_lon)\n",
    "        results = requests.get(url).json()\n",
    "        try :\n",
    "            venues = results['response']['venues']\n",
    "        except:\n",
    "            print(\"Error0:\", url)\n",
    "        try:\n",
    "            temp = json_normalize(venues)[['id','name','location.lat','location.lng']]\n",
    "            temp['SW_lat'] = Str_Point_lat\n",
    "            temp['SW_lon'] = Str_Point_lon\n",
    "            temp['NE_lat'] = End_Point_lat\n",
    "            temp['NE_lon'] = End_Point_lon\n",
    "            venues_dataframe =venues_dataframe.append(temp)\n",
    "        except:\n",
    "            pass"
   ]
  },
  {
   "cell_type": "code",
   "execution_count": 5,
   "metadata": {},
   "outputs": [
    {
     "data": {
      "text/plain": [
       "(1144, 8)"
      ]
     },
     "execution_count": 5,
     "metadata": {},
     "output_type": "execute_result"
    }
   ],
   "source": [
    "venues_dataframe.shape"
   ]
  },
  {
   "cell_type": "markdown",
   "metadata": {},
   "source": [
    "Because of the daily limitation of Foursquare API calls it is better to store harvested data into a database. I decided to use online IBM DB2 service as we learned in __[Databases and SQL for Data Science](https://www.coursera.org/learn/sql-data-science/home/welcome)__ course."
   ]
  },
  {
   "cell_type": "code",
   "execution_count": 6,
   "metadata": {},
   "outputs": [],
   "source": [
    "# @hidden_cell \n",
    "dsn_driver   = \"{IBM DB2 ODBC DRIVER}\"\n",
    "dsn_database = \"BLUDB\"                                                  # e.g. \"BLUDB\"\n",
    "dsn_hostname = \"dashdb-txn-sbox-yp-lon02-01.services.eu-gb.bluemix.net\" # e.g.: \"dashdb-txn-sbox-yp-dal09-04.services.dal.bluemix.net\"\n",
    "dsn_port     = \"50000\"                                                  # e.g. \"50000\" \n",
    "dsn_protocol = \"TCPIP\"                                                  # i.e. \"TCPIP\"\n",
    "dsn_uid      = \"rpf77734\"                                               # e.g. \"abc12345\"\n",
    "dsn_pwd      = \"lrjlqhjc6mc+qwdp\"                                       # e.g. \"7dBZ3wWt9XN6$o0J\""
   ]
  },
  {
   "cell_type": "code",
   "execution_count": 7,
   "metadata": {},
   "outputs": [
    {
     "name": "stdout",
     "output_type": "stream",
     "text": [
      "Connected to database:  BLUDB as user:  rpf77734 on host:  dashdb-txn-sbox-yp-lon02-01.services.eu-gb.bluemix.net\n"
     ]
    }
   ],
   "source": [
    "import ibm_db\n",
    "import ibm_db_dbi\n",
    "dsn = (\n",
    "    \"DRIVER={0};\"\n",
    "    \"DATABASE={1};\"\n",
    "    \"HOSTNAME={2};\"\n",
    "    \"PORT={3};\"\n",
    "    \"PROTOCOL={4};\"\n",
    "    \"UID={5};\"\n",
    "    \"PWD={6};\").format(dsn_driver, dsn_database, dsn_hostname, dsn_port, dsn_protocol, dsn_uid, dsn_pwd)\n",
    "\n",
    "try:\n",
    "    conn = ibm_db.connect(dsn, \"\", \"\")\n",
    "    print (\"Connected to database: \", dsn_database, \"as user: \", dsn_uid, \"on host: \", dsn_hostname)\n",
    "\n",
    "except:\n",
    "    print (\"Unable to connect: \", ibm_db.conn_errormsg() )"
   ]
  },
  {
   "cell_type": "code",
   "execution_count": 8,
   "metadata": {},
   "outputs": [],
   "source": [
    "# delete all previous data in TBVENUES\n",
    "SQL_Script = 'delete from TBVENUES where 1=1'\n",
    "try :\n",
    "    ibm_db.exec_immediate(conn, SQL_Script)\n",
    "except:\n",
    "    print(SQL_Script)\n",
    "    print(ibm_db.stmt_errormsg())"
   ]
  },
  {
   "cell_type": "code",
   "execution_count": 9,
   "metadata": {},
   "outputs": [],
   "source": [
    "for row in venues_dataframe.itertuples():\n",
    "    SQL_Script = '                                             \\\n",
    "   INSERT  INTO TBVENUES                                       \\\n",
    "        (  ID ,NAME ,LON ,LAT ,SW_LON ,SW_LAT ,NE_LON ,NE_LAT )\\\n",
    "   VALUES                                                      \\\n",
    "        (\\'{}\\',\\'{}\\',{},{},{},{},{},{}                       );'.format(row.id,row.name.replace('\\'','\\'\\''),round(row._3,5),round(row._4,5),row.SW_lat,row.SW_lon,row.NE_lat,row.NE_lon)\n",
    "    try :\n",
    "        insertStmt = ibm_db.exec_immediate(conn, SQL_Script)\n",
    "    except :\n",
    "        print(SQL_Script)\n",
    "        print(ibm_db.stmt_errormsg())"
   ]
  },
  {
   "cell_type": "markdown",
   "metadata": {},
   "source": [
    "Now it’s time to find peoples who liked jewelry stores. It can be obtained by likes API, in this API by a venue id we can get users who liked a venue, we store venue id and user id in our database."
   ]
  },
  {
   "cell_type": "code",
   "execution_count": 10,
   "metadata": {},
   "outputs": [],
   "source": [
    "dataframe_likes = None\n",
    "dataframe_likes = pd.DataFrame(columns =['VENUE_ID','USER_ID'])\n",
    "for venue_id in venues_dataframe['id']:\n",
    "    likes_url = 'https://api.foursquare.com/v2/venues/{}/likes?client_id={}&client_secret={}&v={}'.format(venue_id,CLIENT_ID, CLIENT_SECRET, VERSION)\n",
    "    try:\n",
    "        results = requests.get(likes_url).json()\n",
    "        try:\n",
    "            likes = results['response']['likes']['items']\n",
    "            try:\n",
    "                TEMP = json_normalize(likes)[['id']].rename(columns={'id':'USER_ID'})\n",
    "                try:    \n",
    "                    TEMP['VENUE_ID'] = venue_id\n",
    "                    try:\n",
    "                        dataframe_likes = dataframe_likes.append(TEMP[['VENUE_ID','USER_ID']])\n",
    "                    except:\n",
    "                        print('ERROR4 :',likes_url )\n",
    "                except:\n",
    "                    print('ERROR3 :',likes_url )\n",
    "            except:\n",
    "                print('ERROR2 :',likes_url )\n",
    "        except:\n",
    "            pass\n",
    "    except:\n",
    "        print('ERROR0 :',likes_url)"
   ]
  },
  {
   "cell_type": "code",
   "execution_count": 11,
   "metadata": {},
   "outputs": [
    {
     "data": {
      "text/plain": [
       "(853, 2)"
      ]
     },
     "execution_count": 11,
     "metadata": {},
     "output_type": "execute_result"
    }
   ],
   "source": [
    "dataframe_likes.shape"
   ]
  },
  {
   "cell_type": "markdown",
   "metadata": {},
   "source": [
    "Now we can store Likes into our Database"
   ]
  },
  {
   "cell_type": "code",
   "execution_count": 12,
   "metadata": {},
   "outputs": [],
   "source": [
    "# delete all previous data in TBLIKES\n",
    "SQL_Script = '    \\\n",
    "DELETE            \\\n",
    "  FROM  TBLIKES   \\\n",
    " WHERE  1=1       '\n",
    "try :\n",
    "    ibm_db.exec_immediate(conn, SQL_Script)\n",
    "except:\n",
    "    print(SQL_Script)\n",
    "    print(ibm_db.stmt_errormsg())"
   ]
  },
  {
   "cell_type": "code",
   "execution_count": 13,
   "metadata": {},
   "outputs": [],
   "source": [
    "for row in dataframe_likes.itertuples():\n",
    "    SQL_Script = '                                             \\\n",
    "   INSERT                                                      \\\n",
    "     INTO  TBLIKES                                             \\\n",
    "        (  VENUE_ID , USER_ID                                 )\\\n",
    "   VALUES                                                      \\\n",
    "        (\\'{}\\',\\'{}\\'                                         );'.format(row.VENUE_ID,row.USER_ID)\n",
    "    try :\n",
    "        insertStmt = ibm_db.exec_immediate(conn, SQL_Script)\n",
    "    except :\n",
    "        print(SQL_Script)\n",
    "        print(ibm_db.stmt_errormsg())"
   ]
  },
  {
   "cell_type": "markdown",
   "metadata": {},
   "source": [
    "To get details about each person we are going to use __[get details of a user API](https://developer.foursquare.com/docs/api/users/details)__ by a user id stored in previous step. We are going to obtain first name, last name, gender, home city and page URL of these people."
   ]
  },
  {
   "cell_type": "code",
   "execution_count": 14,
   "metadata": {},
   "outputs": [],
   "source": [
    "# remove duplicate user_id s form  dataframe_likes\n",
    "dataframe_likes.reset_index(inplace = True)\n",
    "dataframe_likes.drop_duplicates(subset = 'USER_ID',inplace = True)\n",
    "dataframe_likes.drop(columns=['index'], axis = 1,inplace = True)"
   ]
  },
  {
   "cell_type": "code",
   "execution_count": 15,
   "metadata": {},
   "outputs": [
    {
     "data": {
      "text/plain": [
       "(758, 2)"
      ]
     },
     "execution_count": 15,
     "metadata": {},
     "output_type": "execute_result"
    }
   ],
   "source": [
    "dataframe_likes.shape"
   ]
  },
  {
   "cell_type": "code",
   "execution_count": null,
   "metadata": {},
   "outputs": [],
   "source": [
    "user_data = pd.DataFrame(columns =['id','firstName','lastName','gender','homeCity','canonicalUrl'])\n",
    "for user_id in dataframe_likes['USER_ID']:\n",
    "    user_url = 'https://api.foursquare.com/v2/users/{}?client_id={}&client_secret={}&v={}'.format(user_id,CLIENT_ID, CLIENT_SECRET, VERSION)\n",
    "    results = requests.get(user_url).json()\n",
    "    try:\n",
    "        user = results['response']['user']\n",
    "        user_firstname    = None\n",
    "        user_lastname     = None\n",
    "        user_gender       = None\n",
    "        user_homeCity     = None\n",
    "        user_canonicalUrl = None\n",
    "        try:\n",
    "            user_firstname    = user['firstName']\n",
    "        except:\n",
    "            user_firstname    = ''\n",
    "        try:\n",
    "            user_lastname     = user['lastName']\n",
    "        except:\n",
    "            user_lastname     = ''\n",
    "        try:\n",
    "            user_gender       = user['gender']\n",
    "        except:\n",
    "            user_gender       = ''\n",
    "        try:\n",
    "            user_homeCity     = user['homeCity']\n",
    "        except:\n",
    "            user_homeCity     = ''\n",
    "        try:\n",
    "            user_canonicalUrl = user['canonicalUrl']\n",
    "        except:\n",
    "            canonicalUrl   = ''\n",
    "        user_data = user_data.append({'id':user_id ,'firstName':user_firstname ,'lastName':user_lastname ,'gender':user_gender ,'homeCity':user_homeCity ,'canonicalUrl':user_canonicalUrl},ignore_index=True)\n",
    "    except:\n",
    "        print('error :' , user_url)\n",
    "    "
   ]
  },
  {
   "cell_type": "code",
   "execution_count": 24,
   "metadata": {},
   "outputs": [
    {
     "data": {
      "text/plain": [
       "(0, 6)"
      ]
     },
     "execution_count": 24,
     "metadata": {},
     "output_type": "execute_result"
    }
   ],
   "source": [
    "user_data.shape"
   ]
  },
  {
   "cell_type": "code",
   "execution_count": 19,
   "metadata": {},
   "outputs": [],
   "source": [
    "# delete all previous data in TBUSERS\n",
    "SQL_Script = '    \\\n",
    "DELETE            \\\n",
    "  FROM  TBUSERS   \\\n",
    " WHERE  1=1;      '\n",
    "try :\n",
    "    ibm_db.exec_immediate(conn, SQL_Script)\n",
    "except:\n",
    "    print(SQL_Script)\n",
    "    print(ibm_db.stmt_errormsg())"
   ]
  },
  {
   "cell_type": "code",
   "execution_count": 20,
   "metadata": {},
   "outputs": [],
   "source": [
    "#remove emoji and smilies from first name and last name\n",
    "import re\n",
    "emoji_pattern = re.compile(\"[\"\n",
    "        u\"\\U0001F600-\\U0001F64F\"  # emoticons\n",
    "        u\"\\U0001F300-\\U0001F5FF\"  # symbols & pictographs\n",
    "        u\"\\U0001F680-\\U0001F6FF\"  # transport & map symbols\n",
    "        u\"\\U0001F1E0-\\U0001F1FF\"  # flags (iOS)\n",
    "                           \"]+\", flags=re.UNICODE)\n",
    "for row in user_data.itertuples():\n",
    "    SQL_Script = '                                  \\\n",
    "    INSERT                                           \\\n",
    "      INTO  TBUSERS                                  \\\n",
    "         (  ID ,firstName , lastName ,gender         \\\n",
    "         ,  homeCity      , canonicalUrl            )\\\n",
    "    VALUES                                           \\\n",
    "         (\\'{}\\',\\'{}\\',\\'{}\\',\\'{}\\',\\'{}\\',\\'{}\\');'.format(row.id,emoji_pattern.sub(r'', row.firstName).replace('\\'','\\'\\''),emoji_pattern.sub(r'', row.lastName ).replace('\\'','\\'\\''),row.gender,row.homeCity,row.canonicalUrl)\n",
    "    try :\n",
    "        insertStmt = ibm_db.exec_immediate(conn, SQL_Script)\n",
    "    except :\n",
    "        print(SQL_Script)\n",
    "        print(ibm_db.stmt_errormsg())"
   ]
  },
  {
   "cell_type": "code",
   "execution_count": 21,
   "metadata": {},
   "outputs": [
    {
     "data": {
      "text/plain": [
       "True"
      ]
     },
     "execution_count": 21,
     "metadata": {},
     "output_type": "execute_result"
    }
   ],
   "source": [
    "ibm_db.close(conn)"
   ]
  },
  {
   "cell_type": "code",
   "execution_count": 23,
   "metadata": {},
   "outputs": [
    {
     "data": {
      "text/html": [
       "<div>\n",
       "<style scoped>\n",
       "    .dataframe tbody tr th:only-of-type {\n",
       "        vertical-align: middle;\n",
       "    }\n",
       "\n",
       "    .dataframe tbody tr th {\n",
       "        vertical-align: top;\n",
       "    }\n",
       "\n",
       "    .dataframe thead th {\n",
       "        text-align: right;\n",
       "    }\n",
       "</style>\n",
       "<table border=\"1\" class=\"dataframe\">\n",
       "  <thead>\n",
       "    <tr style=\"text-align: right;\">\n",
       "      <th></th>\n",
       "      <th>id</th>\n",
       "      <th>firstName</th>\n",
       "      <th>lastName</th>\n",
       "      <th>gender</th>\n",
       "      <th>homeCity</th>\n",
       "      <th>canonicalUrl</th>\n",
       "    </tr>\n",
       "  </thead>\n",
       "  <tbody>\n",
       "  </tbody>\n",
       "</table>\n",
       "</div>"
      ],
      "text/plain": [
       "Empty DataFrame\n",
       "Columns: [id, firstName, lastName, gender, homeCity, canonicalUrl]\n",
       "Index: []"
      ]
     },
     "execution_count": 23,
     "metadata": {},
     "output_type": "execute_result"
    }
   ],
   "source": [
    "user_data.head()"
   ]
  }
 ],
 "metadata": {
  "kernelspec": {
   "display_name": "Python 3.5",
   "language": "python",
   "name": "python3"
  },
  "language_info": {
   "codemirror_mode": {
    "name": "ipython",
    "version": 3
   },
   "file_extension": ".py",
   "mimetype": "text/x-python",
   "name": "python",
   "nbconvert_exporter": "python",
   "pygments_lexer": "ipython3",
   "version": "3.5.5"
  }
 },
 "nbformat": 4,
 "nbformat_minor": 1
}
